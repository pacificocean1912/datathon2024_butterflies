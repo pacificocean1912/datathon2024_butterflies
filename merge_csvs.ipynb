{
 "cells": [
  {
   "cell_type": "code",
   "execution_count": null,
   "metadata": {},
   "outputs": [],
   "source": [
    "import pandas as pd\n",
    "import numpy as np\n",
    "import matplotlib.pyplot as plt\n",
    "import tensorflow as tf\n",
    "import cupy as cp\n",
    "print(tf.__version__)\n",
    "from sklearn.linear_model import LinearRegression\n",
    "from sklearn.model_selection import train_test_split\n",
    "from sklearn.metrics import mean_squared_error\n",
    "from sklearn.metrics import r2_score\n",
    "from sklearn.metrics import mean_absolute_error\n",
    "import pandas as pd\n",
    "import numpy as np\n",
    "import matplotlib.pyplot as plt\n",
    "import tensorflow as tf"
   ]
  },
  {
   "cell_type": "code",
   "execution_count": null,
   "metadata": {},
   "outputs": [],
   "source": [
    "from scipy import stats\n",
    "import numpy as np\n",
    "#z = np.abs(stats.zscore())\n",
    "#print(z)"
   ]
  },
  {
   "cell_type": "code",
   "execution_count": null,
   "metadata": {},
   "outputs": [],
   "source": [
    "dff=pd.read_csv(\"/home/jace/butterfliy/combined_fall_data.csv\")\n",
    "dff.drop(\"Unnamed: 0\",axis=1,inplace=True)\n",
    "dff\n",
    "dfs=pd.read_csv(\"/home/jace/butterfliy/combined_spring_data.csv\")\n",
    "dfs.drop(\"Unnamed: 0\",axis=1,inplace=True)\n",
    "dfs['seasonal']=\"0\"\n",
    "dff['seasonal']=\"1\"\n",
    "\n",
    "df_merged = pd.concat([dff, dfs], ignore_index=True, sort=False)\n",
    "df_merged['year']=df_merged.Date.str.split('/').str[-1]\n",
    "df_merged=df_merged.sort_values('year')\n",
    "df_merged.drop(\"year\",axis=1,inplace=True)\n",
    "df_merged=df_merged[df_merged.Date!=\"Date\"]\n",
    "#df_merged=df_merged.sample(frac=0.1)\n",
    "#df_merged.to_csv('merged.csv')\n",
    "\n",
    "df_merged"
   ]
  },
  {
   "cell_type": "code",
   "execution_count": null,
   "metadata": {},
   "outputs": [],
   "source": [
    "dfs['seasonal']=\"spring\"\n",
    "dff['seasonal']=\"fall\"\n",
    "df_merged = pd.concat([dff, dfs], ignore_index=True, sort=False)\n",
    "df_merged.sort_index()\n",
    "df_merged.to_csv('merged.csv')\n"
   ]
  },
  {
   "cell_type": "code",
   "execution_count": null,
   "metadata": {},
   "outputs": [],
   "source": [
    "df_merged=df_merged[df_merged[\"State/Province\"]!=\"England\"]\n",
    "df_merged=df_merged[df_merged[\"State/Province\"]!=\"Spanish Wells\"]\n",
    "df_merged=df_merged[df_merged[\"State/Province\"]!=\"Bay Islands Department\"]\n",
    "df_merged=df_merged[df_merged[\"State/Province\"]!=\"Saint Thomas Lowland Parish\"]\n",
    "df_merged=df_merged[df_merged[\"State/Province\"]!=\"Saint George Basseterre Parish\"]\n",
    "df_merged=df_merged[df_merged[\"State/Province\"]!=\"GRO\"]\n",
    "df_merged=df_merged[df_merged[\"State/Province\"]!=\"CHH\"]\n",
    "df_merged=df_merged[df_merged[\"State/Province\"]!=\"MEX\"]\n",
    "df_merged=df_merged[df_merged[\"State/Province\"]!=\"SLP\"]\n",
    "df_merged=df_merged[df_merged[\"State/Province\"]!=\"TAM\"]\n",
    "df_merged=df_merged[df_merged[\"State/Province\"]!=\"St John\"]\n",
    "df_merged=df_merged[df_merged[\"State/Province\"]!=\"San JosÃ©\"]\n",
    "df_merged=df_merged[df_merged[\"State/Province\"]!=\"ZAC\"]\n",
    "df_merged=df_merged[df_merged[\"State/Province\"]!=\"ColÃ³n Province\"]\n",
    "df_merged=df_merged[df_merged[\"State/Province\"]!=\"VIC\"]\n",
    "df_merged=df_merged[df_merged[\"State/Province\"]!=\"BCS\"]\n",
    "df_merged=df_merged[df_merged[\"State/Province\"]!=\"Saint George Gingerland Parish\"]\n",
    "df_merged=df_merged[df_merged[\"State/Province\"]!=\"NLE\"]\n",
    "df_merged=df_merged[df_merged[\"State/Province\"]!=\"DUR\"]\n",
    "df_merged=df_merged[df_merged[\"State/Province\"]!=\"St Croix\"]\n",
    "df_merged=df_merged[df_merged[\"State/Province\"]!=\"nan\"]\n",
    "df_merged=df_merged[df_merged[\"State/Province\"]!=\"Miquelon-Langlade\"]\n",
    "df_merged=df_merged[df_merged[\"State/Province\"]!=\"BCN\"]\n",
    "df_merged=df_merged[df_merged[\"State/Province\"]!=\"CMX\"]\n",
    "df_merged=df_merged[df_merged[\"State/Province\"]!=\"SaÃ¯da Province\"]\n",
    "df_merged=df_merged[df_merged[\"State/Province\"]!=\"Bonaire\"]\n",
    "df_merged=df_merged[df_merged[\"State/Province\"]!=\"Xinjiang\"]\n",
    "df_merged=df_merged[df_merged[\"State/Province\"]!=\"AGU\"]\n",
    "df_merged=df_merged[df_merged[\"State/Province\"]!=\"Saint-Pierre\"]\n",
    "df_merged=df_merged[df_merged[\"State/Province\"]!=\"SIN\"]\n",
    "df_merged=df_merged[df_merged[\"State/Province\"]!=\"GUA\"]\n",
    "df_merged=df_merged[df_merged[\"State/Province\"]!=\"JAL\"]\n",
    "df_merged=df_merged[df_merged[\"State/Province\"]!=\"ROO\"]\n",
    "df_merged=df_merged[df_merged[\"State/Province\"]!=\"QUE\"]\n",
    "df_merged=df_merged[df_merged[\"State/Province\"]!=\"MOR\"]\n",
    "df_merged=df_merged[df_merged[\"State/Province\"]!=\"nan\"]\n",
    "df_merged=df_merged[df_merged[\"State/Province\"]!=\"MIC\"]\n",
    "df_merged=df_merged[df_merged[\"State/Province\"]!=\"YUC\"]\n",
    "df_merged=df_merged[df_merged[\"State/Province\"]!=\"SON\"]\n",
    "df_merged=df_merged[df_merged[\"State/Province\"]!=\"COA\"]\n",
    "df_merged=df_merged[df_merged[\"State/Province\"]!=\"NL\"]\n",
    "df_merged=df_merged[df_merged[\"State/Province\"]!='NV']\n",
    "df_merged=df_merged[df_merged[\"State/Province\"]!='SK']\n",
    "df_merged=df_merged[df_merged[\"State/Province\"]!='WA']\n",
    "df_merged=df_merged[df_merged[\"State/Province\"]!='MT']\n",
    "df_merged=df_merged[df_merged[\"State/Province\"]!='WY']\n",
    "df_merged=df_merged[df_merged[\"State/Province\"]!='AB']\n",
    "df_merged=df_merged[df_merged[\"State/Province\"]!='HI']\n",
    "df_merged=df_merged[df_merged[\"State/Province\"]!='BC']\n",
    "df_merged=df_merged[df_merged[\"State/Province\"]!='PE']\n",
    "df_merged=df_merged[df_merged[\"State/Province\"]!='Wisconsin']\n",
    "df_merged=df_merged[df_merged[\"State/Province\"]!='QC']\n",
    "df_merged=df_merged[df_merged[\"State/Province\"]!='Central Abaco']\n",
    "df_merged=df_merged[df_merged[\"State/Province\"]!='State/Province']\n",
    "df_merged=df_merged[df_merged[\"State/Province\"]!='NAY']\n",
    "\n",
    "\n",
    "len(df_merged.to)"
   ]
  },
  {
   "cell_type": "code",
   "execution_count": null,
   "metadata": {},
   "outputs": [],
   "source": [
    "df_merged[\"State/Province\"].value_counts()\n",
    "df_merged.to_csv(\"cleaned_merged.csv\")"
   ]
  }
 ],
 "metadata": {
  "language_info": {
   "name": "python"
  }
 },
 "nbformat": 4,
 "nbformat_minor": 2
}
